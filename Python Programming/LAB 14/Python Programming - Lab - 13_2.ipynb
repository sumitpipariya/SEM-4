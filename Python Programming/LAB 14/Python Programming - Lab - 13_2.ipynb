{
 "cells": [
  {
   "cell_type": "markdown",
   "metadata": {},
   "source": [
    "<a href='https://www.darshan.ac.in/'> <img src='https://www.darshan.ac.in/Content/media/DU_Logo.svg' width=\"250\" height=\"300\"/></a>\n",
    "<pre>\n",
    "<center><b><h1>Python Programming - 2301CS404</b></center>\n",
    "<center><b><h1>Lab - 13</b></center>   \n",
    "<center><b><h1>Sumit Pipariya - 23010101210</b></center>\n",
    "<center><b><h1>Lab - 13</b></center>   \n",
    "<pre>"
   ]
  },
  {
   "cell_type": "markdown",
   "metadata": {},
   "source": [
    "## Continued.."
   ]
  },
  {
   "cell_type": "markdown",
   "metadata": {},
   "source": [
    "### 10) Calculate area of a ractangle using object as an argument to a method."
   ]
  },
  {
   "cell_type": "code",
   "execution_count": 2,
   "metadata": {},
   "outputs": [
    {
     "name": "stdout",
     "output_type": "stream",
     "text": [
      "Area of Circle is:  78.5\n",
      "Area of Rectangle is:  50\n"
     ]
    }
   ],
   "source": [
    "class Area:\n",
    "    def circle(self,r):\n",
    "        print(\"Area of Circle is: \",3.14*r*r)\n",
    "        \n",
    "    def rect(self,l,b):\n",
    "        print(\"Area of Rectangle is: \",l*b)\n",
    "        \n",
    "a = Area()\n",
    "a.circle(5)\n",
    "a.rect(5,10)"
   ]
  },
  {
   "cell_type": "markdown",
   "metadata": {},
   "source": [
    "### 11) Calculate the area of a square. \n",
    "### Include a Constructor, a method to calculate area named area() and a method named output() that prints the output and is invoked by area()."
   ]
  },
  {
   "cell_type": "code",
   "execution_count": 17,
   "metadata": {},
   "outputs": [
    {
     "name": "stdout",
     "output_type": "stream",
     "text": [
      "Area of square is:  100\n"
     ]
    }
   ],
   "source": [
    "class Square():\n",
    "    def __init__(self,l):\n",
    "        self.l = l\n",
    "        \n",
    "    def area(self):\n",
    "        ans = self.l ** 2\n",
    "        self.output(ans)\n",
    "    \n",
    "    def output(self,ans):\n",
    "        print(\"Area of square is: \",ans)\n",
    "        \n",
    "s = Square(10)\n",
    "s.area()"
   ]
  },
  {
   "cell_type": "markdown",
   "metadata": {},
   "source": [
    "### 12) Calculate the area of a rectangle. \n",
    "### Include a Constructor, a method to calculate area named area() and a method named output() that prints the output and is invoked by area().\n",
    "### Also define a class method that compares the two sides of reactangle. An object is instantiated only if the two sides are different; otherwise a message should be displayed : THIS IS SQUARE."
   ]
  },
  {
   "cell_type": "code",
   "execution_count": 27,
   "metadata": {},
   "outputs": [
    {
     "name": "stdout",
     "output_type": "stream",
     "text": [
      "Area is:  250\n"
     ]
    }
   ],
   "source": [
    "class rectangle:\n",
    "    def __init__(self,h,l):\n",
    "        self.l = l\n",
    "        self.h = h\n",
    "        \n",
    "    def area(self):\n",
    "        ans = self.l * self.h\n",
    "        self.output(ans)\n",
    "    \n",
    "    def output(self,ans):\n",
    "        print(\"Area is: \",ans)\n",
    "        \n",
    "    def compare(self):\n",
    "        if (self.l == self.h):\n",
    "            print(\"This is Square\")\n",
    "\n",
    "r = rectangle(5,50)\n",
    "r.compare()\n",
    "r.area()"
   ]
  },
  {
   "cell_type": "markdown",
   "metadata": {},
   "source": [
    "### 13) Define a class Square having a private attribute \"side\". \n",
    "### Implement get_side and set_side methods to accees the private attribute from outside of the class."
   ]
  },
  {
   "cell_type": "code",
   "execution_count": 39,
   "metadata": {},
   "outputs": [
    {
     "name": "stdout",
     "output_type": "stream",
     "text": [
      "10\n"
     ]
    }
   ],
   "source": [
    "class Square:\n",
    "    def __init__(self,side=0):\n",
    "        self.__side = side\n",
    "    \n",
    "    def set_side(self,side):\n",
    "        if side > 0:\n",
    "            self.__side = side\n",
    "        else:\n",
    "            print(\"Please enter positive Value mara vala...\")\n",
    "            \n",
    "    def get_side(self):\n",
    "        return self.__side\n",
    "    \n",
    "sq = Square()\n",
    "\n",
    "sq.set_side(10)\n",
    "print(sq.get_side())"
   ]
  },
  {
   "cell_type": "markdown",
   "metadata": {},
   "source": [
    "### 15) WAP to demonstrate all types of inheritance."
   ]
  },
  {
   "cell_type": "code",
   "execution_count": 45,
   "metadata": {},
   "outputs": [
    {
     "name": "stdout",
     "output_type": "stream",
     "text": [
      "This is vehical\n",
      "This is car\n"
     ]
    }
   ],
   "source": [
    "class vehical:\n",
    "    def info(self):\n",
    "        print(\"This is vehical\")\n",
    "    \n",
    "class car(vehical):\n",
    "    v = vehical()\n",
    "    v.info()\n",
    "    \n",
    "    def info(self):\n",
    "        print(\"This is car\")\n",
    "    \n",
    "c = car()\n",
    "c.info()"
   ]
  },
  {
   "cell_type": "markdown",
   "metadata": {},
   "source": [
    "### 16) Create a Person class with a constructor that takes two arguments name and age. \n",
    "### Create a child class Employee that inherits from Person and adds a new attribute salary. \n",
    "### Override the __init__ method in Employee to call the parent class's __init__ method using the super() and then initialize the salary attribute."
   ]
  },
  {
   "cell_type": "code",
   "execution_count": 52,
   "metadata": {},
   "outputs": [
    {
     "name": "stdout",
     "output_type": "stream",
     "text": [
      "Name is:  Darshan\n",
      "Age is:  20\n",
      "Salary is:  50000\n"
     ]
    }
   ],
   "source": [
    "class Person:\n",
    "    def __init__(self, name, age):\n",
    "        self.name = name\n",
    "        self.age = age\n",
    "        \n",
    "    def info_Person(self):\n",
    "        print(\"Name is: \", self.name)\n",
    "        print(\"Age is: \", self.age)\n",
    "        \n",
    "\n",
    "class Employee(Person):\n",
    "    def __init__(self, name, age, salary): \n",
    "        super().__init__(name, age) \n",
    "        self.salary = salary\n",
    "    \n",
    "    def info(self):\n",
    "        self.info_Person()\n",
    "        print(\"Salary is: \", self.salary)\n",
    "\n",
    "e = Employee(\"Darshan\", 20, 50000)\n",
    "e.info()"
   ]
  },
  {
   "cell_type": "markdown",
   "metadata": {},
   "source": [
    "### 17) Create a Shape class with a draw method that is not implemented. \n",
    "### Create three child classes Rectangle, Circle, and Triangle that implement the draw method with their respective drawing behaviors. \n",
    "### Create a list of Shape objects that includes one instance of each child class, and then iterate through the list and call the draw method on each object."
   ]
  },
  {
   "cell_type": "code",
   "execution_count": 59,
   "metadata": {},
   "outputs": [
    {
     "name": "stdout",
     "output_type": "stream",
     "text": [
      "Drawing a Rectangle\n",
      "Drawing a Circle\n",
      "Drawing a Triangle\n"
     ]
    }
   ],
   "source": [
    "from abc import ABC, abstractmethod\n",
    "\n",
    "class Shape(ABC):\n",
    "    def draw(self):\n",
    "        pass\n",
    "\n",
    "class Rectangle(Shape):\n",
    "    def draw(self):\n",
    "        print(\"Drawing a Rectangle\")\n",
    "\n",
    "class Circle(Shape):\n",
    "    def draw(self):\n",
    "        print(\"Drawing a Circle\")\n",
    "\n",
    "class Triangle(Shape):\n",
    "    def draw(self):\n",
    "        print(\"Drawing a Triangle\")\n",
    "\n",
    "shapes = [Rectangle(), Circle(), Triangle()]\n",
    "\n",
    "for shape in shapes:\n",
    "    shape.draw()\n"
   ]
  },
  {
   "cell_type": "code",
   "execution_count": null,
   "metadata": {},
   "outputs": [],
   "source": []
  }
 ],
 "metadata": {
  "kernelspec": {
   "display_name": "Python 3 (ipykernel)",
   "language": "python",
   "name": "python3"
  },
  "language_info": {
   "codemirror_mode": {
    "name": "ipython",
    "version": 3
   },
   "file_extension": ".py",
   "mimetype": "text/x-python",
   "name": "python",
   "nbconvert_exporter": "python",
   "pygments_lexer": "ipython3",
   "version": "3.10.9"
  }
 },
 "nbformat": 4,
 "nbformat_minor": 4
}
