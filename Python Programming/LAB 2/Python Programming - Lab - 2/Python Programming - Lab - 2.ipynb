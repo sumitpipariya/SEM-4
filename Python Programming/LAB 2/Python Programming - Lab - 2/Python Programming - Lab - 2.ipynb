{
 "cells": [
  {
   "cell_type": "markdown",
   "metadata": {},
   "source": [
    "\n",
    "<a href='https://www.darshan.ac.in/'> <img src='https://www.darshan.ac.in/Content/media/DU_Logo.svg' width=\"250\" height=\"300\"/></a>\n",
    "<pre>\n",
    "<center><b><h1>Python Programming - 2301CS404</b></center>\n",
    "<center><b><h1>Lab - 2</b></center>    \n",
    "<pre>"
   ]
  },
  {
   "cell_type": "markdown",
   "metadata": {},
   "source": [
    "# if..else.."
   ]
  },
  {
   "cell_type": "markdown",
   "metadata": {},
   "source": [
    "### 01) WAP to check whether the given number is positive or negative."
   ]
  },
  {
   "cell_type": "code",
   "execution_count": 7,
   "metadata": {},
   "outputs": [
    {
     "name": "stdin",
     "output_type": "stream",
     "text": [
      "Enter the number : 0\n"
     ]
    },
    {
     "name": "stdout",
     "output_type": "stream",
     "text": [
      "A is Positive\n"
     ]
    }
   ],
   "source": [
    "a = int(input(\"Enter the number :\"))\n",
    "if a>=0:\n",
    "    print(\"A is Positive\")\n",
    "else:\n",
    "    print(\"A is Negetive\")"
   ]
  },
  {
   "cell_type": "markdown",
   "metadata": {},
   "source": [
    "### 02) WAP to check whether the given number is odd or even."
   ]
  },
  {
   "cell_type": "code",
   "execution_count": 12,
   "metadata": {},
   "outputs": [
    {
     "name": "stdin",
     "output_type": "stream",
     "text": [
      "Enter the number : 4\n"
     ]
    },
    {
     "name": "stdout",
     "output_type": "stream",
     "text": [
      "4 is Even\n"
     ]
    }
   ],
   "source": [
    "a = int(input(\"Enter the number :\"))\n",
    "if a%2 == 0:\n",
    "    print(a,\"is Even\")\n",
    "else:\n",
    "    print(a,\"is Odd\")"
   ]
  },
  {
   "cell_type": "markdown",
   "metadata": {},
   "source": [
    "### 03) WAP to find out largest number from given two numbers using simple if and ternary operator."
   ]
  },
  {
   "cell_type": "code",
   "execution_count": 14,
   "metadata": {},
   "outputs": [
    {
     "name": "stdin",
     "output_type": "stream",
     "text": [
      "Enter the number 1 : 20\n",
      "Enter the number 2 : -90\n"
     ]
    },
    {
     "name": "stdout",
     "output_type": "stream",
     "text": [
      "A is max\n"
     ]
    }
   ],
   "source": [
    "a = int(input(\"Enter the number 1 :\"))\n",
    "b = int(input(\"Enter the number 2 :\"))\n",
    "max = \"A is max\" if a>b else \"B is max\"\n",
    "print(max)"
   ]
  },
  {
   "cell_type": "markdown",
   "metadata": {},
   "source": [
    "### 04) WAP to find out largest number from given three numbers."
   ]
  },
  {
   "cell_type": "code",
   "execution_count": 27,
   "metadata": {},
   "outputs": [
    {
     "name": "stdin",
     "output_type": "stream",
     "text": [
      "Enter the number 1 : 10\n",
      "Enter the number 2 : 90\n",
      "Enter the number 3 : 30\n"
     ]
    },
    {
     "name": "stdout",
     "output_type": "stream",
     "text": [
      "B is large..\n"
     ]
    }
   ],
   "source": [
    "a = int(input(\"Enter the number 1 :\"))\n",
    "b = int(input(\"Enter the number 2 :\"))\n",
    "c = int(input(\"Enter the number 3 :\"))\n",
    "if a>b:\n",
    "    if a>c:\n",
    "        print(\"A is large..\")\n",
    "    else:\n",
    "        print(\"C is large..\")\n",
    "else:\n",
    "    if b>c:\n",
    "        print(\"B is large..\")\n",
    "    else:\n",
    "        print(\"C is large..\")"
   ]
  },
  {
   "cell_type": "markdown",
   "metadata": {},
   "source": [
    "### 05) WAP to check whether the given year is leap year or not.\n",
    "[If a year can be divisible by 4 but not divisible by 100 then it is leap year but if it is divisible by 400 then it is leap year]"
   ]
  },
  {
   "cell_type": "code",
   "execution_count": 55,
   "metadata": {},
   "outputs": [
    {
     "name": "stdin",
     "output_type": "stream",
     "text": [
      "Enter the Year : 2000\n"
     ]
    },
    {
     "name": "stdout",
     "output_type": "stream",
     "text": [
      "Leap Year\n"
     ]
    }
   ],
   "source": [
    "a = int(input(\"Enter the Year :\"))\n",
    "if a%4==0:\n",
    "    print(\"Leap Year\")\n",
    "else:\n",
    "    print(\"Not Leap Year\")"
   ]
  },
  {
   "cell_type": "markdown",
   "metadata": {},
   "source": [
    "### 06) WAP in python to display the name of the day according to the number given by the user."
   ]
  },
  {
   "cell_type": "code",
   "execution_count": 59,
   "metadata": {},
   "outputs": [
    {
     "name": "stdin",
     "output_type": "stream",
     "text": [
      "Enter the Number Between 1 to 7: 3\n"
     ]
    },
    {
     "name": "stdout",
     "output_type": "stream",
     "text": [
      "Tuesday\n"
     ]
    }
   ],
   "source": [
    "a = int(input(\"Enter the Number Between 1 to 7:\"))\n",
    "if a==1:\n",
    "    print(\"Sunday\")\n",
    "elif a==2:\n",
    "    print(\"Monday\")\n",
    "elif a==3:\n",
    "    print(\"Tuesday\")\n",
    "elif a==4:\n",
    "    print(\"Wednesday\")\n",
    "elif a==5:\n",
    "    print(\"Thursday\")\n",
    "elif a==5:\n",
    "    print(\"Friday\")\n",
    "elif a==7:\n",
    "    print(\"Saturday\")\n",
    "else:\n",
    "    print(\"Enter valid number...\")"
   ]
  },
  {
   "cell_type": "markdown",
   "metadata": {},
   "source": [
    "### 07) WAP to implement simple calculator which performs (add,sub,mul,div) of two no. based on user input."
   ]
  },
  {
   "cell_type": "code",
   "execution_count": 63,
   "metadata": {},
   "outputs": [
    {
     "name": "stdin",
     "output_type": "stream",
     "text": [
      "Enter the number 1 : 20\n",
      "Enter the number 2 : 30\n",
      "Enter the Operation: *\n"
     ]
    },
    {
     "name": "stdout",
     "output_type": "stream",
     "text": [
      "Multiplication is : 600\n"
     ]
    }
   ],
   "source": [
    "a = int(input(\"Enter the number 1 :\"))\n",
    "b = int(input(\"Enter the number 2 :\"))\n",
    "n = str(input(\"Enter the Operation:\"))\n",
    "if n==\"+\":\n",
    "    print(\"Addtion is :\", a+b)\n",
    "elif n==\"-\":\n",
    "    print(\"Substraction is :\", a-b)\n",
    "elif n==\"*\":\n",
    "    print(\"Multiplication is :\", a*b)\n",
    "elif n==\"/\":\n",
    "    print(\"Division is :\", a/b)\n",
    "else:\n",
    "    print(\"Elter valid operation..\")"
   ]
  },
  {
   "cell_type": "markdown",
   "metadata": {},
   "source": [
    "### 08) WAP to read marks of five subjects. Calculate percentage and print class accordingly. \n",
    "Fail below 35 </br>\n",
    "Pass Class between 35 to 45 </br>\n",
    "Second Class</br>\n",
    "between 45 to 60</br>\n",
    "First Class between 60 to 70</br> \n",
    "Distinction if more than 70"
   ]
  },
  {
   "cell_type": "code",
   "execution_count": 69,
   "metadata": {},
   "outputs": [
    {
     "name": "stdin",
     "output_type": "stream",
     "text": [
      "Enter the Subject 1 : 100\n",
      "Enter the Subject 2 : 100\n",
      "Enter the Subject 3 : 100\n",
      "Enter the Subject 4 : 100\n",
      "Enter the Subject 5 : 100\n"
     ]
    },
    {
     "name": "stdout",
     "output_type": "stream",
     "text": [
      "Percentage is : 100.0 %\n",
      "Distinction\n"
     ]
    }
   ],
   "source": [
    "a = int(input(\"Enter the Subject 1 :\"))\n",
    "b = int(input(\"Enter the Subject 2 :\"))\n",
    "c = int(input(\"Enter the Subject 3 :\"))\n",
    "d = int(input(\"Enter the Subject 4 :\"))\n",
    "e = int(input(\"Enter the Subject 5 :\"))\n",
    "per = (a+b+c+d+e)/5\n",
    "print(\"Percentage is :\",per,\"%\")\n",
    "\n",
    "if per>70:\n",
    "    print(\"Distinction\")\n",
    "elif per<70 and per>=60:\n",
    "    print(\"First class\")\n",
    "elif per<60 and per>=45:\n",
    "    print(\"Second class\")\n",
    "elif per<45 and per>=35:\n",
    "    print(\"Pass\")\n",
    "else:\n",
    "    print(\"Fail\")"
   ]
  },
  {
   "cell_type": "markdown",
   "metadata": {},
   "source": [
    "### 09) Three sides of a triangle are entered through the keyboard, WAP to check whether the triangle is isosceles, equilateral, scalene or right-angled triangle."
   ]
  },
  {
   "cell_type": "code",
   "execution_count": 15,
   "metadata": {},
   "outputs": [
    {
     "name": "stdin",
     "output_type": "stream",
     "text": [
      "Enter the Angle 1 : 3\n",
      "Enter the Angle 2 : 2\n",
      "Enter the Angle 3 : 1\n"
     ]
    },
    {
     "name": "stdout",
     "output_type": "stream",
     "text": [
      "Enter valid sides for triangle.\n"
     ]
    }
   ],
   "source": [
    "a = int(input(\"Enter the Angle 1 :\"))\n",
    "b = int(input(\"Enter the Angle 2 :\"))\n",
    "c = int(input(\"Enter the Angle 3 :\"))\n",
    "if a + b > c and a + c > b and b + c > a:\n",
    "        if a == b == c:\n",
    "            print(\"The triangle is Equilateral.\")\n",
    "        elif a == b or b == c or a == c:\n",
    "            print(\"The triangle is Isosceles.\")\n",
    "        else:\n",
    "            print(\"The triangle is Scalene.\")\n",
    "        \n",
    "        if a**2 + b**2 == c**2:\n",
    "            print(\"The triangle is Right-Angled.\")\n",
    "else:\n",
    "        print(\"Enter valid sides for triangle.\")"
   ]
  },
  {
   "cell_type": "markdown",
   "metadata": {},
   "source": [
    "### 10) WAP to find the second largest number among three user input numbers."
   ]
  },
  {
   "cell_type": "code",
   "execution_count": 24,
   "metadata": {},
   "outputs": [
    {
     "name": "stdin",
     "output_type": "stream",
     "text": [
      "Enter the number 1 : -20\n",
      "Enter the number 2 : 900\n",
      "Enter the number 3 : -900\n"
     ]
    },
    {
     "name": "stdout",
     "output_type": "stream",
     "text": [
      "Second Largest is : -20\n"
     ]
    }
   ],
   "source": [
    "a = int(input(\"Enter the number 1 :\"))\n",
    "b = int(input(\"Enter the number 2 :\"))\n",
    "c = int(input(\"Enter the number 3 :\"))\n",
    "arr = [a,b,c]\n",
    "arr.sort()\n",
    "d = arr[1]\n",
    "print(\"Second Largest is :\", d)"
   ]
  },
  {
   "cell_type": "markdown",
   "metadata": {},
   "source": [
    "### 11) WAP to calculate electricity bill based on following criteria. Which takes the unit from the user.\n",
    "a. First 1 to 50 units – Rs. 2.60/unit</br>\n",
    "b. Next 50 to 100 units – Rs. 3.25/unit</br>\n",
    "c. Next 100 to 200 units – Rs. 5.26/unit</br>\n",
    "d. above 200 units – Rs. 8.45/unit"
   ]
  },
  {
   "cell_type": "code",
   "execution_count": 28,
   "metadata": {},
   "outputs": [
    {
     "name": "stdin",
     "output_type": "stream",
     "text": [
      "Enter the Unit: 123\n"
     ]
    },
    {
     "name": "stdout",
     "output_type": "stream",
     "text": [
      "Bill is : 646.98\n"
     ]
    }
   ],
   "source": [
    "unit = float(input(\"Enter the Unit:\"))\n",
    "if unit>1 and unit<=50:\n",
    "    print(\"Bill is :\", unit*2.60)\n",
    "elif unit>50 and unit<=100:\n",
    "    print(\"Bill is :\",unit*3.25)\n",
    "elif unit>100 and unit<=200:\n",
    "    print(\"Bill is :\",unit*5.26)\n",
    "elif unit>200:\n",
    "    print(\"Bill is :\",unit*8.45)\n",
    "else:\n",
    "    print(\"Enter valid Unit..\")"
   ]
  }
 ],
 "metadata": {
  "kernelspec": {
   "display_name": "Python 3 (ipykernel)",
   "language": "python",
   "name": "python3"
  },
  "language_info": {
   "codemirror_mode": {
    "name": "ipython",
    "version": 3
   },
   "file_extension": ".py",
   "mimetype": "text/x-python",
   "name": "python",
   "nbconvert_exporter": "python",
   "pygments_lexer": "ipython3",
   "version": "3.13.0"
  }
 },
 "nbformat": 4,
 "nbformat_minor": 4
}
