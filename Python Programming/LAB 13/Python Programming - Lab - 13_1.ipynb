{
 "cells": [
  {
   "cell_type": "markdown",
   "metadata": {},
   "source": [
    "<a href='https://www.darshan.ac.in/'> <img src='https://www.darshan.ac.in/Content/media/DU_Logo.svg' width=\"250\" height=\"300\"/></a>\n",
    "<pre>\n",
    "<center><b><h1>Python Programming - 2301CS404</b></center>\n",
    "<center><b><h1>Lab - 13</b></center>    \n",
    "<pre>"
   ]
  },
  {
   "cell_type": "markdown",
   "metadata": {},
   "source": [
    "# OOP"
   ]
  },
  {
   "cell_type": "markdown",
   "metadata": {},
   "source": [
    "### 01) Write a Program to create a class by name Students, and initialize attributes like name, age, and grade while creating an object."
   ]
  },
  {
   "cell_type": "code",
   "execution_count": 5,
   "metadata": {},
   "outputs": [
    {
     "name": "stdout",
     "output_type": "stream",
     "text": [
      "Darshan\n",
      "20\n",
      "A++\n"
     ]
    }
   ],
   "source": [
    "class Student:\n",
    "    def __init__(self,name,age,grade):\n",
    "        self.name = name\n",
    "        self.age = age\n",
    "        self.grade = grade\n",
    "        \n",
    "stu = Student(\"Darshan\",20,\"A++\")\n",
    "print(stu.name)\n",
    "print(stu.age)\n",
    "print(stu.grade)"
   ]
  },
  {
   "cell_type": "markdown",
   "metadata": {},
   "source": [
    "### 02) Create a class named Bank_Account with Account_No, User_Name, Email,Account_Type and Account_Balance data members. Also create a method GetAccountDetails() and DisplayAccountDetails(). Create main method to demonstrate the Bank_Account class."
   ]
  },
  {
   "cell_type": "code",
   "execution_count": 20,
   "metadata": {},
   "outputs": [
    {
     "name": "stdout",
     "output_type": "stream",
     "text": [
      "Enter Account Number:123\n",
      "Enter Email:fer\n",
      "Enter Account Type:rreh\n",
      "Enter Account Balance:56413\n",
      "Account Number: 123\n",
      "Email: fer\n",
      "Account Type: rreh\n",
      "Account Balance: 56413\n"
     ]
    }
   ],
   "source": [
    "class Bank_Account:  \n",
    "    \n",
    "    def __init__(self,ano,email,atype,balance):\n",
    "        self.ano = ano\n",
    "        self.email = email\n",
    "        self.atype = atype\n",
    "        self.balance = balance\n",
    "        \n",
    "    def GetAccountDetails(self):\n",
    "        self.ano = input(\"Enter Account Number:\")\n",
    "        self.email = input(\"Enter Email:\")        \n",
    "        self.atype = input(\"Enter Account Type:\")        \n",
    "        self.balance = input(\"Enter Account Balance:\")        \n",
    "        \n",
    "    def DisplayAccountDetails(self):\n",
    "        print(\"Account Number:\", self.ano)\n",
    "        print(\"Email:\", self.email)        \n",
    "        print(\"Account Type:\", self.atype)        \n",
    "        print(\"Account Balance:\", self.balance)  \n",
    "        \n",
    "        \n",
    "if __name__==\"__main__\":\n",
    "    ba = Bank_Account(None,None,None,None)\n",
    "    ba.GetAccountDetails()\n",
    "    ba.DisplayAccountDetails()"
   ]
  },
  {
   "cell_type": "markdown",
   "metadata": {},
   "source": [
    "### 03) WAP to create Circle class with area and perimeter function to find area and perimeter of circle."
   ]
  },
  {
   "cell_type": "code",
   "execution_count": 24,
   "metadata": {},
   "outputs": [
    {
     "name": "stdout",
     "output_type": "stream",
     "text": [
      "Area of circle is:  314.2857142857143\n",
      "Area of circle is:  62.857142857142854\n"
     ]
    }
   ],
   "source": [
    "class Circle:\n",
    "    def area(self,r):\n",
    "        pi = 22/7\n",
    "        print(\"Area of circle is: \", pi*r*r)\n",
    "        \n",
    "    def perimeter(self,r):\n",
    "        pi = 22/7\n",
    "        print(\"Area of circle is: \", 2*pi*r)\n",
    "        \n",
    "C = Circle()\n",
    "C.area(10)\n",
    "C.perimeter(10)"
   ]
  },
  {
   "cell_type": "markdown",
   "metadata": {},
   "source": [
    "### 04) Create a class for employees that includes attributes such as name, age, salary, and methods to update and display employee information."
   ]
  },
  {
   "cell_type": "code",
   "execution_count": 46,
   "metadata": {},
   "outputs": [
    {
     "name": "stdout",
     "output_type": "stream",
     "text": [
      "\n"
     ]
    }
   ],
   "source": [
    "class employees:\n",
    "    \n",
    "    def __init__(self,name,age,salary):\n",
    "        self.name = \"\"\n",
    "        self.age = 20\n",
    "        self.salary = 50000\n",
    "        \n",
    "e = employees(\"asdf\",None,None)\n",
    "print(e.name)   "
   ]
  },
  {
   "cell_type": "markdown",
   "metadata": {},
   "source": [
    "### 05) Create a bank account class with methods to deposit, withdraw, and check balance."
   ]
  },
  {
   "cell_type": "code",
   "execution_count": 72,
   "metadata": {},
   "outputs": [
    {
     "name": "stdout",
     "output_type": "stream",
     "text": [
      "After Deposit:  10000\n",
      "Total Balance is:  20000\n",
      "After amount:  5000\n",
      "Total Balance is:  15000\n",
      "Total balance:  15000\n"
     ]
    }
   ],
   "source": [
    "class bank:\n",
    "    def __init__(self,balance):\n",
    "        self.balance = balance\n",
    "    \n",
    "    def deposit(self,amount):\n",
    "        print(\"After Deposit: \",self.balance)\n",
    "        self.balance = self.balance + amount\n",
    "        print(\"Total Balance is: \",self.balance)\n",
    "        \n",
    "    def withdraw(self,amount):\n",
    "        print(\"After amount: \",amount)\n",
    "        self.balance = self.balance - amount\n",
    "        print(\"Total Balance is: \",self.balance)\n",
    "        \n",
    "    def check_balance(self):\n",
    "        print(\"Total balance: \",self.balance)\n",
    "        \n",
    "b = bank(10000)\n",
    "b.deposit(10000)\n",
    "b.withdraw(5000)\n",
    "b.check_balance()"
   ]
  },
  {
   "cell_type": "markdown",
   "metadata": {},
   "source": [
    "### 06) Create a class for managing inventory that includes attributes such as item name, price, quantity, and methods to add, remove, and update items."
   ]
  },
  {
   "cell_type": "code",
   "execution_count": 2,
   "metadata": {},
   "outputs": [
    {
     "name": "stdout",
     "output_type": "stream",
     "text": [
      "Laptop - $999 x5\n"
     ]
    }
   ],
   "source": [
    "class Inventory:\n",
    "    def __init__(self):\n",
    "        self.items = {}\n",
    "\n",
    "    def add_item(self, name, price, quantity):\n",
    "        self.items[name] = {'price': price, 'quantity': quantity}\n",
    "\n",
    "    def remove_item(self, name):\n",
    "        self.items.pop(name, None)\n",
    "\n",
    "    def update_item(self, name, price=None, quantity=None):\n",
    "        if name in self.items:\n",
    "            if price: self.items[name]['price'] = price\n",
    "            if quantity: self.items[name]['quantity'] = quantity\n",
    "\n",
    "    def display(self):\n",
    "        for name, details in self.items.items():\n",
    "            print(f\"{name} - ${details['price']} x{details['quantity']}\")\n",
    "\n",
    "inv = Inventory()\n",
    "inv.add_item(\"Laptop\", 999, 10)\n",
    "inv.update_item(\"Laptop\", quantity=5)\n",
    "inv.display()\n"
   ]
  },
  {
   "cell_type": "markdown",
   "metadata": {},
   "source": [
    "### 07) Create a Class with instance attributes of your choice."
   ]
  },
  {
   "cell_type": "code",
   "execution_count": 7,
   "metadata": {},
   "outputs": [
    {
     "name": "stdout",
     "output_type": "stream",
     "text": [
      "'2025' by Darshan, published in 2010\n"
     ]
    }
   ],
   "source": [
    "class Book:\n",
    "    def __init__(self, title, author, year, genre):\n",
    "        self.title = title\n",
    "        self.author = author\n",
    "        self.year = year\n",
    "\n",
    "    def display_info(self):\n",
    "        print(f\"'{self.title}' by {self.author}, published in {self.year}\")\n",
    "\n",
    "book1 = Book(\"2025\", \"Darshan\", 2010, \"ASDF\")\n",
    "\n",
    "book1.display_info()"
   ]
  },
  {
   "cell_type": "markdown",
   "metadata": {},
   "source": [
    "### 08) Create one class student_kit\n",
    "#### Within the student_kit class create one class attribute principal name ( Mr ABC )\n",
    "#### Create one attendance method and take input as number of days.\n",
    "#### While creating student take input their name .\n",
    "#### Create one certificate for each student by taking input of number of days present in class."
   ]
  },
  {
   "cell_type": "code",
   "execution_count": 8,
   "metadata": {},
   "outputs": [
    {
     "name": "stdout",
     "output_type": "stream",
     "text": [
      "Enter student's name: darshan\n",
      "Enter days present for darshan: 100\n",
      "Certificate for darshan\n",
      "Principal: Mr. ABC\n",
      "Days Present: 100 days\n"
     ]
    }
   ],
   "source": [
    "class StudentKit:\n",
    "    principal_name = \"Mr. ABC\"\n",
    "\n",
    "    def __init__(self, name):\n",
    "        self.name = name\n",
    "        self.days_present = 0\n",
    "\n",
    "    def attendance(self, days):\n",
    "        self.days_present = days\n",
    "\n",
    "    def certificate(self):\n",
    "        print(f\"Certificate for {self.name}\")\n",
    "        print(f\"Principal: {self.principal_name}\")\n",
    "        print(f\"Days Present: {self.days_present} days\")\n",
    "\n",
    "name = input(\"Enter student's name: \")\n",
    "student = StudentKit(name)\n",
    "student.attendance(int(input(f\"Enter days present for {name}: \")))\n",
    "student.certificate()"
   ]
  },
  {
   "cell_type": "markdown",
   "metadata": {},
   "source": [
    "### 09) Define Time class with hour and minute as data member. Also define addition method to add two time objects."
   ]
  },
  {
   "cell_type": "code",
   "execution_count": 10,
   "metadata": {},
   "outputs": [
    {
     "name": "stdout",
     "output_type": "stream",
     "text": [
      "6 hour and 15 minute\n"
     ]
    }
   ],
   "source": [
    "class Time:\n",
    "    def __init__(self, hour, minute):\n",
    "        self.hour = hour\n",
    "        self.minute = minute\n",
    "\n",
    "    def add(self, other):\n",
    "        total_minutes = self.hour * 60 + self.minute + other.hour * 60 + other.minute\n",
    "        hour = total_minutes // 60\n",
    "        minute = total_minutes % 60\n",
    "        return Time(hour, minute)\n",
    "\n",
    "    def display(self):\n",
    "        print(f\"{self.hour} hour and {self.minute} minute\")\n",
    "\n",
    "        \n",
    "time1 = Time(2, 45) \n",
    "time2 = Time(3, 30) \n",
    "result = time1.add(time2)\n",
    "result.display()  \n"
   ]
  },
  {
   "cell_type": "code",
   "execution_count": null,
   "metadata": {},
   "outputs": [],
   "source": []
  }
 ],
 "metadata": {
  "kernelspec": {
   "display_name": "Python 3 (ipykernel)",
   "language": "python",
   "name": "python3"
  },
  "language_info": {
   "codemirror_mode": {
    "name": "ipython",
    "version": 3
   },
   "file_extension": ".py",
   "mimetype": "text/x-python",
   "name": "python",
   "nbconvert_exporter": "python",
   "pygments_lexer": "ipython3",
   "version": "3.10.9"
  }
 },
 "nbformat": 4,
 "nbformat_minor": 4
}
