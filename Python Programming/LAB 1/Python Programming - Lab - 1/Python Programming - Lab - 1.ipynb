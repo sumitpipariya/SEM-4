{
 "cells": [
  {
   "cell_type": "markdown",
   "metadata": {},
   "source": [
    "<a href='https://www.darshan.ac.in/'> <img src='https://www.darshan.ac.in/Content/media/DU_Logo.svg' width=\"250\" height=\"10\"/></a>\n",
    "<pre>\n",
    "<center><b><h1>Python Programming - 2301CS404</b></center>\n",
    "<center><b><h1>Lab - 1</b></center>    \n",
    "<pre>"
   ]
  },
  {
   "cell_type": "markdown",
   "metadata": {},
   "source": [
    "### 01) WAP to print “Hello World”"
   ]
  },
  {
   "cell_type": "code",
   "execution_count": 1,
   "metadata": {},
   "outputs": [
    {
     "name": "stdout",
     "output_type": "stream",
     "text": [
      "Hello world\n"
     ]
    }
   ],
   "source": [
    "print(\"Hello world\")"
   ]
  },
  {
   "cell_type": "markdown",
   "metadata": {},
   "source": [
    "### 02) WAP to print addition of two numbers with and without using input()."
   ]
  },
  {
   "cell_type": "code",
   "execution_count": 3,
   "metadata": {},
   "outputs": [
    {
     "name": "stdout",
     "output_type": "stream",
     "text": [
      "Enter the number 1:  20\n",
      "Enter the number 2:  30\n"
     ]
    },
    {
     "name": "stdout",
     "output_type": "stream",
     "text": [
      "Addition is :  50\n"
     ]
    }
   ],
   "source": [
    "a = int(input(\"Enter the number 1: \"))\n",
    "b = int(input(\"Enter the number 2: \"))\n",
    "print(\"Addition is : \",a+b)"
   ]
  },
  {
   "cell_type": "markdown",
   "metadata": {},
   "source": [
    "### 03) WAP to check the type of the variable."
   ]
  },
  {
   "cell_type": "code",
   "execution_count": 51,
   "metadata": {},
   "outputs": [
    {
     "data": {
      "text/plain": [
       "int"
      ]
     },
     "execution_count": 51,
     "metadata": {},
     "output_type": "execute_result"
    }
   ],
   "source": [
    "a = 10.01\n",
    "type(a)\n",
    "b = 10\n",
    "type(b)"
   ]
  },
  {
   "cell_type": "markdown",
   "metadata": {},
   "source": [
    "### 04) WAP to calculate simple interest."
   ]
  },
  {
   "cell_type": "code",
   "execution_count": 6,
   "metadata": {},
   "outputs": [
    {
     "name": "stdout",
     "output_type": "stream",
     "text": [
      "Enter the Intrest:  10\n",
      "Enter the Rate:  20\n",
      "Enter the Year:  30\n"
     ]
    },
    {
     "name": "stdout",
     "output_type": "stream",
     "text": [
      "Simple Intrest is :  60.0\n"
     ]
    }
   ],
   "source": [
    "i = int(input(\"Enter the Intrest: \"))\n",
    "r = int(input(\"Enter the Rate: \"))\n",
    "y = int(input(\"Enter the Year: \"))\n",
    "\n",
    "print(\"Simple Intrest is : \",i*y*r/100)"
   ]
  },
  {
   "cell_type": "markdown",
   "metadata": {},
   "source": [
    "### 05) WAP to calculate area and perimeter of a circle."
   ]
  },
  {
   "cell_type": "code",
   "execution_count": 8,
   "metadata": {},
   "outputs": [
    {
     "name": "stdout",
     "output_type": "stream",
     "text": [
      "Enter the Redious of Circle :  20\n"
     ]
    },
    {
     "name": "stdout",
     "output_type": "stream",
     "text": [
      "Area of Circle is :  1256.0\n",
      "Perimeter of Circle is :  25.12\n"
     ]
    }
   ],
   "source": [
    "r = int(input(\"Enter the Redious of Circle : \"))\n",
    "print(\"Area of Circle is : \",3.14*r*r)\n",
    "print(\"Perimeter of Circle is : \",2*3.14*4)"
   ]
  },
  {
   "cell_type": "markdown",
   "metadata": {},
   "source": [
    "### 06) WAP to calculate area of a triangle."
   ]
  },
  {
   "cell_type": "code",
   "execution_count": 9,
   "metadata": {},
   "outputs": [
    {
     "name": "stdout",
     "output_type": "stream",
     "text": [
      "Enter the Base:  20\n",
      "Enter the Height:  10\n"
     ]
    },
    {
     "name": "stdout",
     "output_type": "stream",
     "text": [
      "Area of Trinangle is :  100.0\n"
     ]
    }
   ],
   "source": [
    "b = int(input(\"Enter the Base: \"))\n",
    "h = int(input(\"Enter the Height: \"))\n",
    "print(\"Area of Trinangle is : \" , 1/2* b * h)"
   ]
  },
  {
   "cell_type": "markdown",
   "metadata": {},
   "source": [
    "### 07) WAP to compute quotient and remainder."
   ]
  },
  {
   "cell_type": "code",
   "execution_count": null,
   "metadata": {},
   "outputs": [
    {
     "name": "stdout",
     "output_type": "stream",
     "text": [
      "Enter the Dividend:  900\n",
      "Enter the Divisor:  675\n"
     ]
    },
    {
     "name": "stdout",
     "output_type": "stream",
     "text": [
      "Quotient is: 1\n"
     ]
    }
   ],
   "source": [
    "dividend = int(input(\"Enter the Dividend: \"))\n",
    "divisor = int(input(\"Enter the Divisor: \"))\n",
    "quotient = dividend // divisor\n",
    "print(\"Quotient is:\",quotient)"
   ]
  },
  {
   "cell_type": "markdown",
   "metadata": {},
   "source": [
    "### 08) WAP to convert degree into Fahrenheit and vice versa."
   ]
  },
  {
   "cell_type": "code",
   "execution_count": 14,
   "metadata": {},
   "outputs": [
    {
     "name": "stdout",
     "output_type": "stream",
     "text": [
      "Enter the number 1 for faherenhit to degree and 2 for the degree to faherenhit 9\n"
     ]
    },
    {
     "name": "stdout",
     "output_type": "stream",
     "text": [
      "Enter valid number...\n"
     ]
    }
   ],
   "source": [
    "n = int(input(\"Enter the number 1 for faherenhit to degree and 2 for the degree to faherenhit\"))\n",
    "if n==1:\n",
    "    f = int(input(\"Enter the faherenhit\"))\n",
    "    print(\"Degree is : \", (f-32)*5/9)\n",
    "elif n==2:\n",
    "    c = int(input(\"Enter the cencious\"))\n",
    "    print(\"Faherenhit is : \", c * 1.8 + 32)\n",
    "else:\n",
    "    print(\"Enter valid number...\")\n",
    "                  "
   ]
  },
  {
   "cell_type": "markdown",
   "metadata": {},
   "source": [
    "### 09) WAP to find the distance between two points in 2-D space."
   ]
  },
  {
   "cell_type": "code",
   "execution_count": 27,
   "metadata": {},
   "outputs": [
    {
     "name": "stdout",
     "output_type": "stream",
     "text": [
      "Enter the value of x1:  4\n",
      "Enter the value of x2:  1\n",
      "Enter the value of y1:  7\n",
      "Enter the value of y2:  2\n"
     ]
    },
    {
     "name": "stdout",
     "output_type": "stream",
     "text": [
      "Distance is :  5.830951894845301\n"
     ]
    }
   ],
   "source": [
    "x1 = int(input(\"Enter the value of x1: \"))\n",
    "x2 = int(input(\"Enter the value of x2: \"))\n",
    "y1 = int(input(\"Enter the value of y1: \"))\n",
    "y2 = int(input(\"Enter the value of y2: \"))\n",
    "dis = (x2-x1)**2 + (y2-y1)**2\n",
    "print(\"Distance is : \", pow(dis,1/2))\n"
   ]
  },
  {
   "cell_type": "markdown",
   "metadata": {},
   "source": [
    "### 10) WAP to print sum of n natural numbers."
   ]
  },
  {
   "cell_type": "code",
   "execution_count": 40,
   "metadata": {},
   "outputs": [
    {
     "name": "stdout",
     "output_type": "stream",
     "text": [
      "Enter the number:  5\n"
     ]
    },
    {
     "name": "stdout",
     "output_type": "stream",
     "text": [
      "Addition of first 5 number is:  15.0\n"
     ]
    }
   ],
   "source": [
    "n = int(input(\"Enter the number: \"))\n",
    "print(\"Addition of first\",n,\"number is: \",n*(n+1)/2)"
   ]
  },
  {
   "cell_type": "markdown",
   "metadata": {},
   "source": [
    "### 11) WAP to print sum of square of n natural numbers."
   ]
  },
  {
   "cell_type": "code",
   "execution_count": 43,
   "metadata": {},
   "outputs": [
    {
     "name": "stdout",
     "output_type": "stream",
     "text": [
      "Enter the number:  4\n"
     ]
    },
    {
     "name": "stdout",
     "output_type": "stream",
     "text": [
      "Addition of first 4 number is:  30.0\n"
     ]
    }
   ],
   "source": [
    "n = int(input(\"Enter the number: \"))\n",
    "print(\"Addition of first\",n,\"number is: \",n*(n+1)*(2*n+1)/6)"
   ]
  },
  {
   "cell_type": "markdown",
   "metadata": {},
   "source": [
    "### 12) WAP to concate the first and last name of the student."
   ]
  },
  {
   "cell_type": "code",
   "execution_count": 44,
   "metadata": {},
   "outputs": [
    {
     "name": "stdout",
     "output_type": "stream",
     "text": [
      "Enter your First name :  sumit \n",
      "Enter your Last name:  pipariya\n"
     ]
    },
    {
     "name": "stdout",
     "output_type": "stream",
     "text": [
      "Your name is : sumit  pipariya\n"
     ]
    }
   ],
   "source": [
    "fname = input(\"Enter your First name : \")\n",
    "lname = input(\"Enter your Last name: \")\n",
    "print(\"Your name is :\",fname,lname)"
   ]
  },
  {
   "cell_type": "markdown",
   "metadata": {},
   "source": [
    "### 13) WAP to swap two numbers."
   ]
  },
  {
   "cell_type": "code",
   "execution_count": 47,
   "metadata": {},
   "outputs": [
    {
     "name": "stdout",
     "output_type": "stream",
     "text": [
      "Value of a is: 20 and Value of b is: 10\n"
     ]
    }
   ],
   "source": [
    "a = 10\n",
    "b = 20\n",
    "a = a+b\n",
    "b = a-b\n",
    "a = a-b\n",
    "print(\"Value of a is:\",a, \"and Value of b is:\",b)"
   ]
  },
  {
   "cell_type": "markdown",
   "metadata": {},
   "source": [
    "### 14) WAP to get the distance from user into kilometer, and convert it into meter, feet, inches and centimeter."
   ]
  },
  {
   "cell_type": "code",
   "execution_count": 48,
   "metadata": {},
   "outputs": [
    {
     "name": "stdout",
     "output_type": "stream",
     "text": [
      "Enter the distance in Km: 5\n"
     ]
    },
    {
     "name": "stdout",
     "output_type": "stream",
     "text": [
      "Distence in meter is : 5000 Meter\n",
      "Distence in feet is : 16404.2 Feet\n",
      "Distence in inches is : 196850.5 Inches\n",
      "Distence in centimeter is : 500000 Centimeter\n"
     ]
    }
   ],
   "source": [
    "d = int(input(\"Enter the distance in Km:\"))\n",
    "print(\"Distence in meter is :\",d*1000,\"Meter\")\n",
    "print(\"Distence in feet is :\",d*3280.84,\"Feet\")\n",
    "print(\"Distence in inches is :\",d*39370.1,\"Inches\")\n",
    "print(\"Distence in centimeter is :\",d*100000,\"Centimeter\")"
   ]
  },
  {
   "cell_type": "markdown",
   "metadata": {},
   "source": [
    "### 15) WAP to get day, month and year from the user and print the date in the given format: 23-11-2024."
   ]
  },
  {
   "cell_type": "code",
   "execution_count": 50,
   "metadata": {},
   "outputs": [
    {
     "name": "stdout",
     "output_type": "stream",
     "text": [
      "23-11-2024\n"
     ]
    }
   ],
   "source": [
    "print(23,11,2024,sep=\"-\")"
   ]
  }
 ],
 "metadata": {
  "kernelspec": {
   "display_name": "Python 3 (ipykernel)",
   "language": "python",
   "name": "python3"
  },
  "language_info": {
   "codemirror_mode": {
    "name": "ipython",
    "version": 3
   },
   "file_extension": ".py",
   "mimetype": "text/x-python",
   "name": "python",
   "nbconvert_exporter": "python",
   "pygments_lexer": "ipython3",
   "version": "3.13.0"
  },
  "vscode": {
   "interpreter": {
    "hash": "31f2aee4e71d21fbe5cf8b01ff0e069b9275f58929596ceb00d14d90e3e16cd6"
   }
  }
 },
 "nbformat": 4,
 "nbformat_minor": 4
}
