{
 "cells": [
  {
   "cell_type": "markdown",
   "metadata": {},
   "source": [
    "<a href='https://www.darshan.ac.in/'> <img src='https://www.darshan.ac.in/Content/media/DU_Logo.svg' width=\"250\" height=\"300\"/></a>\n",
    "<pre>\n",
    "<center><b><h1>Python Programming - 2301CS404</b></center>\n",
    "<center><b><h1>Lab - 6</b></center>    \n",
    "<pre>"
   ]
  },
  {
   "cell_type": "markdown",
   "metadata": {},
   "source": [
    "# Tuple"
   ]
  },
  {
   "cell_type": "markdown",
   "metadata": {},
   "source": [
    "### 01) WAP to find sum of tuple elements."
   ]
  },
  {
   "cell_type": "code",
   "execution_count": 63,
   "metadata": {},
   "outputs": [
    {
     "name": "stdout",
     "output_type": "stream",
     "text": [
      "15\n"
     ]
    }
   ],
   "source": [
    "t1 = (1,2,3,4,5)\n",
    "ans =sum(t1)\n",
    "print(ans)"
   ]
  },
  {
   "cell_type": "markdown",
   "metadata": {},
   "source": [
    "### 02) WAP to find Maximum and Minimum K elements in a given tuple."
   ]
  },
  {
   "cell_type": "code",
   "execution_count": 54,
   "metadata": {},
   "outputs": [
    {
     "name": "stdout",
     "output_type": "stream",
     "text": [
      "Enter the number: 9,8,7,6,5,4,3,2,1\n",
      "Enter the value to find max and min: 2\n",
      "Max is:  (8, 9)\n",
      "Min is:  (1, 2)\n"
     ]
    }
   ],
   "source": [
    "t1 = input(\"Enter the number: \").split(\",\")\n",
    "a = tuple(int(i) for i in t1)\n",
    "t2 =sorted(a)\n",
    "t3 = tuple(set(t2))\n",
    "n = int(input(\"Enter the value to find max and min: \"))\n",
    "print(\"Max is: \",t3[-n:])\n",
    "print(\"Min is: \",t3[:n])"
   ]
  },
  {
   "cell_type": "markdown",
   "metadata": {},
   "source": [
    "### 03) WAP to find tuples which have all elements divisible by K from a list of tuples."
   ]
  },
  {
   "cell_type": "code",
   "execution_count": 75,
   "metadata": {},
   "outputs": [
    {
     "name": "stdout",
     "output_type": "stream",
     "text": [
      "Enter the value of K: 3\n",
      "((3, 6, 9, 12, 15),)\n"
     ]
    }
   ],
   "source": [
    "k = int(input(\"Enter the value of K: \"))\n",
    "t1 = (1,2,3,4,5,6)\n",
    "t2 = (2,4,6,8,10)\n",
    "t3 = (3,6,9,12,15)\n",
    "l1 = [t1,t2,t3]\n",
    "ans = tuple(i for i in l1 if all(j%k==0 for j in i))\n",
    "print(ans)        "
   ]
  },
  {
   "cell_type": "markdown",
   "metadata": {},
   "source": [
    "### 04) WAP to create a list of tuples from given list having number and its cube in each tuple."
   ]
  },
  {
   "cell_type": "code",
   "execution_count": 77,
   "metadata": {},
   "outputs": [
    {
     "name": "stdout",
     "output_type": "stream",
     "text": [
      "[(1, 1), (2, 8), (3, 27), (4, 64), (5, 125), (6, 216), (7, 343), (8, 512), (9, 729), (10, 1000)]\n"
     ]
    }
   ],
   "source": [
    "l1 = [1,2,3,4,5,6,7,8,9,10]\n",
    "ans = [(i,i**3) for i in l1]\n",
    "print(ans)"
   ]
  },
  {
   "cell_type": "markdown",
   "metadata": {},
   "source": [
    "### 05) WAP to find tuples with all positive elements from the given list of tuples."
   ]
  },
  {
   "cell_type": "code",
   "execution_count": 78,
   "metadata": {},
   "outputs": [
    {
     "name": "stdout",
     "output_type": "stream",
     "text": [
      "((3, 6, 9, 12, 15),)\n"
     ]
    }
   ],
   "source": [
    "t1 = (1,-2,3,4,-5,6)\n",
    "t2 = (2,4,-6,8,-10)\n",
    "t3 = (3,6,9,12,15)\n",
    "l1 = [t1,t2,t3]\n",
    "ans = tuple(i for i in l1 if all(j>0 for j in i))\n",
    "print(ans)"
   ]
  },
  {
   "cell_type": "markdown",
   "metadata": {},
   "source": [
    "### 06) WAP to add tuple to list and vice – versa."
   ]
  },
  {
   "cell_type": "code",
   "execution_count": 99,
   "metadata": {},
   "outputs": [
    {
     "name": "stdout",
     "output_type": "stream",
     "text": [
      "Add List to Tuple: [1, 2, 3, 4, 5, 6, 9, 8, 54]\n",
      "Add Tuple to List: (1, 2, 3, 4, 5, 6, 9, 8, 54)\n"
     ]
    }
   ],
   "source": [
    "l1 = [(1),(2),(3),(4),(5)]\n",
    "t1 = (6,9,8,54)\n",
    "\n",
    "l1.extend(t1)\n",
    "print(\"Add List to Tuple:\",l1)\n",
    "\n",
    "t2 = tuple(l1)\n",
    "print(\"Add Tuple to List:\",t2)\n"
   ]
  },
  {
   "cell_type": "markdown",
   "metadata": {},
   "source": [
    "### 07) WAP to remove tuples of length K."
   ]
  },
  {
   "cell_type": "code",
   "execution_count": 104,
   "metadata": {},
   "outputs": [
    {
     "name": "stdout",
     "output_type": "stream",
     "text": [
      "Enter the Index: 6\n",
      "((1, 2, 3, 4, 5, 6, 10, 50, 60, 40, 45, 20), (2, 4, 6, 8, 10), (3, 6, 9, 12, 15, 25, 98, 94))\n"
     ]
    }
   ],
   "source": [
    "t1 = (1,2,3,4,5,6,10,50,60,40,45,20)\n",
    "t2 = (2,4,6,8,10)\n",
    "t3 = (3,6,9,12,15,25,98,94)\n",
    "t4 = (3,2,15,25,98,94)\n",
    "l1 = [t1,t2,t3,t4]\n",
    "k = int(input(\"Enter the Index: \"))\n",
    "ans = tuple(i for i in l1 if all(len(i)!=k for j in i))\n",
    "print(ans)"
   ]
  },
  {
   "cell_type": "markdown",
   "metadata": {},
   "source": [
    "### 08) WAP to remove duplicates from tuple."
   ]
  },
  {
   "cell_type": "code",
   "execution_count": null,
   "metadata": {},
   "outputs": [],
   "source": []
  },
  {
   "cell_type": "markdown",
   "metadata": {},
   "source": [
    "### 09) WAP to multiply adjacent elements of a tuple and print that resultant tuple."
   ]
  },
  {
   "cell_type": "code",
   "execution_count": null,
   "metadata": {},
   "outputs": [],
   "source": []
  },
  {
   "cell_type": "markdown",
   "metadata": {},
   "source": [
    "### 10) WAP to test if the given tuple is distinct or not."
   ]
  },
  {
   "cell_type": "code",
   "execution_count": null,
   "metadata": {},
   "outputs": [],
   "source": []
  }
 ],
 "metadata": {
  "kernelspec": {
   "display_name": "Python 3 (ipykernel)",
   "language": "python",
   "name": "python3"
  },
  "language_info": {
   "codemirror_mode": {
    "name": "ipython",
    "version": 3
   },
   "file_extension": ".py",
   "mimetype": "text/x-python",
   "name": "python",
   "nbconvert_exporter": "python",
   "pygments_lexer": "ipython3",
   "version": "3.10.9"
  }
 },
 "nbformat": 4,
 "nbformat_minor": 4
}
