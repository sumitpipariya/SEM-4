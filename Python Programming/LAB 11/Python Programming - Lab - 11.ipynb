{
 "cells": [
  {
   "cell_type": "markdown",
   "metadata": {},
   "source": [
    "<a href='https://www.darshan.ac.in/'> <img src='https://www.darshan.ac.in/Content/media/DU_Logo.svg' width=\"250\" height=\"300\"/></a>\n",
    "<pre>\n",
    "<center><b><h1>Python Programming - 2301CS404</b></center>\n",
    "<center><b><h1>Lab - 11</b></center>    \n",
    "<pre>"
   ]
  },
  {
   "cell_type": "markdown",
   "metadata": {},
   "source": [
    "# Modules"
   ]
  },
  {
   "cell_type": "markdown",
   "metadata": {},
   "source": [
    "### 01) WAP to create Calculator module which defines functions like add, sub,mul and div. \n",
    "### Create another .py file that uses the functions available in Calculator module."
   ]
  },
  {
   "cell_type": "code",
   "execution_count": 4,
   "metadata": {},
   "outputs": [
    {
     "name": "stdout",
     "output_type": "stream",
     "text": [
      "Additon is :  30\n",
      "Substraction is :  -10\n",
      "Multiplication is :  200\n",
      "Devision is :  0.5\n"
     ]
    }
   ],
   "source": [
    "import Calculator\n",
    "Calculator.Calculator(10,20)"
   ]
  },
  {
   "cell_type": "markdown",
   "metadata": {},
   "source": [
    "### 02) WAP to pick a random character from a given String."
   ]
  },
  {
   "cell_type": "code",
   "execution_count": 13,
   "metadata": {},
   "outputs": [
    {
     "name": "stdout",
     "output_type": "stream",
     "text": [
      "Index is : 21 Charter is : j\n"
     ]
    }
   ],
   "source": [
    "str = \"Darshan University Rajkot Gujarat India\"\n",
    "\n",
    "import random\n",
    "index = random.randrange(1, 40)\n",
    "print(\"Index is :\",index,\"Charter is :\",str[index])"
   ]
  },
  {
   "cell_type": "markdown",
   "metadata": {},
   "source": [
    "### 03) WAP to pick a random element from a given list."
   ]
  },
  {
   "cell_type": "code",
   "execution_count": 19,
   "metadata": {},
   "outputs": [
    {
     "name": "stdout",
     "output_type": "stream",
     "text": [
      "Element is : 49\n"
     ]
    }
   ],
   "source": [
    "l = [i for i in range(50)]\n",
    "index = random.randrange(1,50)\n",
    "print(\"Element is :\",index)"
   ]
  },
  {
   "cell_type": "markdown",
   "metadata": {},
   "source": [
    "### 04) WAP to roll a dice in such a way that every time you get the same number."
   ]
  },
  {
   "cell_type": "code",
   "execution_count": 22,
   "metadata": {},
   "outputs": [
    {
     "name": "stdout",
     "output_type": "stream",
     "text": [
      "No. is: 6\n"
     ]
    }
   ],
   "source": [
    "index = random.randint(6,6)\n",
    "print(\"No. is:\",index)"
   ]
  },
  {
   "cell_type": "markdown",
   "metadata": {},
   "source": [
    "### 05) WAP to generate 3 random integers between 100 and 999 which is divisible by 5."
   ]
  },
  {
   "cell_type": "code",
   "execution_count": 51,
   "metadata": {},
   "outputs": [
    {
     "name": "stdout",
     "output_type": "stream",
     "text": [
      "NO is devidible by 5\n"
     ]
    }
   ],
   "source": [
    "n1 = random.randrange(100,999,5)\n",
    "n2 = random.randrange(100,999,5)\n",
    "n3 = random.randrange(100,999,5)\n",
    "\n",
    "if n1%5==0 and n2%5==0 and n3%5==0:\n",
    "    print(\"NO is devidible by 5\")\n",
    "else:\n",
    "    print(\"NO is not devidible by 5\")"
   ]
  },
  {
   "cell_type": "markdown",
   "metadata": {},
   "source": [
    "### 06) WAP to generate 100 random lottery tickets and pick two lucky tickets from it and announce them as Winner and Runner up respectively."
   ]
  },
  {
   "cell_type": "code",
   "execution_count": 38,
   "metadata": {},
   "outputs": [
    {
     "name": "stdout",
     "output_type": "stream",
     "text": [
      "Winner is:  81\n",
      "Runner Up is:  43\n"
     ]
    }
   ],
   "source": [
    "n1 = random.randrange(1,100)\n",
    "n2 = random.randrange(1,100)\n",
    "if n1>n2:\n",
    "    print(\"Winner is: \",n1)\n",
    "    print(\"Runner Up is: \",n2)\n",
    "else:\n",
    "    print(\"Winner is: \",n2)\n",
    "    print(\"Runner Up is: \",n1)"
   ]
  },
  {
   "cell_type": "markdown",
   "metadata": {},
   "source": [
    "### 07) WAP to print current date and time in Python."
   ]
  },
  {
   "cell_type": "code",
   "execution_count": 6,
   "metadata": {},
   "outputs": [
    {
     "name": "stdout",
     "output_type": "stream",
     "text": [
      "Current date and time is :  2025-02-10 11:30:02.516483\n"
     ]
    }
   ],
   "source": [
    "import datetime\n",
    "print(\"Current date and time is : \",datetime.datetime.now())"
   ]
  },
  {
   "cell_type": "markdown",
   "metadata": {},
   "source": [
    "### 08) Subtract a week (7 days) from a given date in Python."
   ]
  },
  {
   "cell_type": "code",
   "execution_count": 65,
   "metadata": {},
   "outputs": [
    {
     "name": "stdout",
     "output_type": "stream",
     "text": [
      "Before 7 days date is : 3\n"
     ]
    }
   ],
   "source": [
    "today = datetime.datetime.now()\n",
    "ans = today.day - 7\n",
    "print(\"Before 7 days date is :\",ans)"
   ]
  },
  {
   "cell_type": "markdown",
   "metadata": {},
   "source": [
    "### 09) WAP to Calculate number of days between two given dates."
   ]
  },
  {
   "cell_type": "code",
   "execution_count": 85,
   "metadata": {},
   "outputs": [
    {
     "name": "stdout",
     "output_type": "stream",
     "text": [
      "Day Difference is:  7031\n"
     ]
    }
   ],
   "source": [
    "d1 = datetime.datetime(2005, 11, 11)\n",
    "d2 = datetime.datetime.now()\n",
    "ans = (d2-d1).days\n",
    "print(\"Day Difference is: \",ans)"
   ]
  },
  {
   "cell_type": "markdown",
   "metadata": {},
   "source": [
    "### 10) WAP to Find the day of the week of a given date.(i.e. wether it is sunday/monday/tuesday/etc.)"
   ]
  },
  {
   "cell_type": "code",
   "execution_count": 91,
   "metadata": {},
   "outputs": [
    {
     "name": "stdout",
     "output_type": "stream",
     "text": [
      "Friday\n"
     ]
    }
   ],
   "source": [
    "d1 = datetime.datetime(2005, 11, 11)\n",
    "print(d1.strftime(\"%A\"))"
   ]
  },
  {
   "cell_type": "markdown",
   "metadata": {},
   "source": [
    "### 11) WAP to demonstrate the use of date time module."
   ]
  },
  {
   "cell_type": "code",
   "execution_count": 7,
   "metadata": {},
   "outputs": [
    {
     "data": {
      "text/plain": [
       "datetime.datetime(2025, 2, 10, 11, 30, 5, 243628)"
      ]
     },
     "execution_count": 7,
     "metadata": {},
     "output_type": "execute_result"
    }
   ],
   "source": [
    "a = datetime.datetime.now()\n",
    "a"
   ]
  },
  {
   "cell_type": "markdown",
   "metadata": {},
   "source": [
    "### 12) WAP to demonstrate the use of the math module."
   ]
  },
  {
   "cell_type": "code",
   "execution_count": 8,
   "metadata": {},
   "outputs": [
    {
     "name": "stdout",
     "output_type": "stream",
     "text": [
      "Pi value:  3.141592653589793\n",
      "E value 2.718281828459045\n",
      "Sin function 0.8939966636005579\n",
      "Tau value:  6.283185307179586\n"
     ]
    }
   ],
   "source": [
    "import math\n",
    "print(\"Pi value: \",math.pi)\n",
    "print(\"E value\",math.e)\n",
    "print(\"Sin function\",math.sin(90))\n",
    "print(\"Tau value: \",math.tau)"
   ]
  },
  {
   "cell_type": "code",
   "execution_count": null,
   "metadata": {},
   "outputs": [],
   "source": []
  }
 ],
 "metadata": {
  "kernelspec": {
   "display_name": "Python 3 (ipykernel)",
   "language": "python",
   "name": "python3"
  },
  "language_info": {
   "codemirror_mode": {
    "name": "ipython",
    "version": 3
   },
   "file_extension": ".py",
   "mimetype": "text/x-python",
   "name": "python",
   "nbconvert_exporter": "python",
   "pygments_lexer": "ipython3",
   "version": "3.10.9"
  }
 },
 "nbformat": 4,
 "nbformat_minor": 4
}
