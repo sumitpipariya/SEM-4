{
 "cells": [
  {
   "cell_type": "markdown",
   "metadata": {},
   "source": [
    "<a href='https://www.darshan.ac.in/'> <img src='https://www.darshan.ac.in/Content/media/DU_Logo.svg' width=\"250\" height=\"300\"/></a>\n",
    "<pre>\n",
    "<center><b><h1>Python Programming - 2301CS404</b></center>\n",
    "<center><b><h1>Lab - 7</b></center>    \n",
    "<pre>"
   ]
  },
  {
   "cell_type": "markdown",
   "metadata": {},
   "source": [
    "# Set & Dictionary"
   ]
  },
  {
   "cell_type": "markdown",
   "metadata": {},
   "source": [
    "### 01) WAP to iterate over a set."
   ]
  },
  {
   "cell_type": "code",
   "execution_count": 113,
   "metadata": {},
   "outputs": [
    {
     "name": "stdout",
     "output_type": "stream",
     "text": [
      "1\n",
      "2\n",
      "3\n",
      "4\n",
      "5\n",
      "6\n",
      "7\n"
     ]
    }
   ],
   "source": [
    "s = {1,2,3,4,5,6,7}\n",
    "\n",
    "for i in s:\n",
    "    print(i)"
   ]
  },
  {
   "cell_type": "markdown",
   "metadata": {},
   "source": [
    "### 02) WAP to convert set into list, string and tuple."
   ]
  },
  {
   "cell_type": "code",
   "execution_count": 13,
   "metadata": {},
   "outputs": [
    {
     "name": "stdout",
     "output_type": "stream",
     "text": [
      "List is:  [1, 2, 3]\n",
      "Tuple is:  (1, 2, 3)\n",
      "String is:  {1, 2, 3}\n"
     ]
    }
   ],
   "source": [
    "s = {1,2,3}\n",
    "l = list(s)\n",
    "t = tuple(s)\n",
    "st = str(s)\n",
    "print(\"List is: \",l)\n",
    "print(\"Tuple is: \",t)\n",
    "print(\"String is: \",st)"
   ]
  },
  {
   "cell_type": "markdown",
   "metadata": {},
   "source": [
    "### 03) WAP to find Maximum and Minimum from a set."
   ]
  },
  {
   "cell_type": "code",
   "execution_count": 17,
   "metadata": {},
   "outputs": [
    {
     "name": "stdout",
     "output_type": "stream",
     "text": [
      "Max is : 9\n",
      "Min is : -9\n"
     ]
    }
   ],
   "source": [
    "s = {1,2,3,4,5,6,7,8,9,0,-1,-5,-9}\n",
    "print(\"Max is :\",max(s))\n",
    "print(\"Min is :\",min(s))"
   ]
  },
  {
   "cell_type": "markdown",
   "metadata": {},
   "source": [
    "### 04) WAP to perform union of two sets."
   ]
  },
  {
   "cell_type": "code",
   "execution_count": 22,
   "metadata": {},
   "outputs": [
    {
     "name": "stdout",
     "output_type": "stream",
     "text": [
      "{1, 2, 3, 8, 9, 456, 234, 12, 687, 435}\n"
     ]
    }
   ],
   "source": [
    "s1 = {1,2,3,8,9}\n",
    "s2 = {12,234,456,687,435}\n",
    "print(s1 | s2)"
   ]
  },
  {
   "cell_type": "markdown",
   "metadata": {},
   "source": [
    "### 05) WAP to check if two lists have at-least one element common."
   ]
  },
  {
   "cell_type": "code",
   "execution_count": 38,
   "metadata": {},
   "outputs": [
    {
     "name": "stdout",
     "output_type": "stream",
     "text": [
      "Common element is :  {1, 4, 5}\n",
      "True\n"
     ]
    }
   ],
   "source": [
    "l1 = [1,2,3,4,5]\n",
    "l2 = [1,4,5,6,7,8]\n",
    "print(\"Common element is : \",set(l1) & set(l2))\n",
    "if set(l1) & set(l2) == 0:\n",
    "    print(\"False\")\n",
    "else:\n",
    "    print(\"True\")"
   ]
  },
  {
   "cell_type": "markdown",
   "metadata": {},
   "source": [
    "### 06) WAP to remove duplicates from list."
   ]
  },
  {
   "cell_type": "code",
   "execution_count": 32,
   "metadata": {},
   "outputs": [
    {
     "name": "stdout",
     "output_type": "stream",
     "text": [
      "{0, 1, 2, 3, 4, 5, 6, 7, 8, 9}\n"
     ]
    }
   ],
   "source": [
    "l = [1,2,3,4,5,4,3,7,6,8,7,9,9,0,6]\n",
    "print(set(l))"
   ]
  },
  {
   "cell_type": "markdown",
   "metadata": {},
   "source": [
    "### 07) WAP to find unique words in the given string."
   ]
  },
  {
   "cell_type": "code",
   "execution_count": 49,
   "metadata": {},
   "outputs": [
    {
     "data": {
      "text/plain": [
       "{'Darshan', 'Rajkot', 'University'}"
      ]
     },
     "execution_count": 49,
     "metadata": {},
     "output_type": "execute_result"
    }
   ],
   "source": [
    "st = \"Darshan University Darshan Rajkot\"\n",
    "s = set(st.split())\n",
    "s"
   ]
  },
  {
   "cell_type": "markdown",
   "metadata": {},
   "source": [
    "### 08) WAP to remove common elements of set A & B from set A."
   ]
  },
  {
   "cell_type": "code",
   "execution_count": 52,
   "metadata": {},
   "outputs": [
    {
     "name": "stdout",
     "output_type": "stream",
     "text": [
      "{2, 3}\n"
     ]
    }
   ],
   "source": [
    "l1 = {1,2,3,4,5}\n",
    "l2 = {1,4,5,6,7,8}\n",
    "l3 = l1 - l2\n",
    "print(l3)"
   ]
  },
  {
   "cell_type": "markdown",
   "metadata": {},
   "source": [
    "### 09) WAP to check whether two given strings are anagram or not using set."
   ]
  },
  {
   "cell_type": "code",
   "execution_count": 56,
   "metadata": {},
   "outputs": [
    {
     "name": "stdout",
     "output_type": "stream",
     "text": [
      "This String is Anagram...\n"
     ]
    }
   ],
   "source": [
    "s1 = 'abc'\n",
    "s2 = 'bca'\n",
    "if(sorted(s1) == sorted(s2)):\n",
    "    print(\"This String is Anagram...\")\n",
    "else:\n",
    "    print(\"This String is not Anagram...\")"
   ]
  },
  {
   "cell_type": "markdown",
   "metadata": {},
   "source": [
    "### 10) WAP to find common elements in three lists using set."
   ]
  },
  {
   "cell_type": "code",
   "execution_count": 71,
   "metadata": {},
   "outputs": [
    {
     "data": {
      "text/plain": [
       "{1}"
      ]
     },
     "execution_count": 71,
     "metadata": {},
     "output_type": "execute_result"
    }
   ],
   "source": [
    "l1 = [1,2,3,4,5]\n",
    "l2 = [1,2,4,6,8,0]\n",
    "l3 = [1,3,5,7,9]\n",
    "s1 = set(l1)\n",
    "s2 = set(l2)\n",
    "s3 = set(l3)\n",
    "ans = s1 & s2 & s3\n",
    "ans"
   ]
  },
  {
   "cell_type": "markdown",
   "metadata": {},
   "source": [
    "### 11) WAP to count number of vowels in given string using set."
   ]
  },
  {
   "cell_type": "code",
   "execution_count": 90,
   "metadata": {},
   "outputs": [
    {
     "name": "stdout",
     "output_type": "stream",
     "text": [
      "6\n"
     ]
    }
   ],
   "source": [
    "st = 'Darshan University'\n",
    "count = 0\n",
    "vowel = set('aeiouAEIOU')\n",
    "for i in st:\n",
    "    if i in vowel:\n",
    "        count+=1\n",
    "print(count)"
   ]
  },
  {
   "cell_type": "markdown",
   "metadata": {},
   "source": [
    "### 12) WAP to check if a given string is binary string or not."
   ]
  },
  {
   "cell_type": "code",
   "execution_count": 134,
   "metadata": {},
   "outputs": [
    {
     "name": "stdout",
     "output_type": "stream",
     "text": [
      "Binary\n"
     ]
    }
   ],
   "source": [
    "st = '1010111'\n",
    "s1 = set('10')\n",
    "count = 0\n",
    "for i in st:\n",
    "    if i not in s1:\n",
    "        count += 1\n",
    "if count > 0:\n",
    "    print(\"Not Binary\")\n",
    "else:\n",
    "    print(\"Binary\")"
   ]
  },
  {
   "cell_type": "markdown",
   "metadata": {},
   "source": [
    "### 13) WAP to sort dictionary by key or value."
   ]
  },
  {
   "cell_type": "code",
   "execution_count": 159,
   "metadata": {},
   "outputs": [
    {
     "name": "stdout",
     "output_type": "stream",
     "text": [
      "['a', 'c', 'd']\n",
      "{'a': '1', 'c': '3', 'd': '2'}\n"
     ]
    }
   ],
   "source": [
    "d = {\n",
    "    \"a\" : \"1\",\n",
    "    \"d\" : \"2\",\n",
    "    \"c\" : \"3\"\n",
    "}\n",
    "key = list(d.keys())\n",
    "key.sort()\n",
    "print(key)\n",
    "\n",
    "val = {i:d[i] for i in key}\n",
    "print(val)"
   ]
  },
  {
   "cell_type": "markdown",
   "metadata": {},
   "source": [
    "### 14) WAP to find the sum of all items (values) in a dictionary given by user. (Assume: values are numeric)"
   ]
  },
  {
   "cell_type": "code",
   "execution_count": 164,
   "metadata": {},
   "outputs": [
    {
     "name": "stdout",
     "output_type": "stream",
     "text": [
      "Enter the size: 3\n",
      "Enter the key: a\n",
      "Enter the value: 10\n",
      "Enter the key: b\n",
      "Enter the value: 80\n",
      "Enter the key: c\n",
      "Enter the value: 100\n",
      "190\n"
     ]
    }
   ],
   "source": [
    "dict = {}\n",
    "n = int(input(\"Enter the size: \"))\n",
    "for i in range(n):\n",
    "    key = input(\"Enter the key: \")\n",
    "    value = int(input(\"Enter the value: \"))\n",
    "    dict[key] = value\n",
    "print(sum(dict.values()))"
   ]
  },
  {
   "cell_type": "markdown",
   "metadata": {},
   "source": [
    "### 15) WAP to handle missing keys in dictionaries.\n",
    "#### Example : Given, dict1 = {'a': 5, 'c': 8, 'e': 2} \n",
    "#### if you look for key = 'd', the message given should be 'Key Not Found', otherwise print the value of 'd' in dict1."
   ]
  },
  {
   "cell_type": "code",
   "execution_count": null,
   "metadata": {},
   "outputs": [],
   "source": []
  }
 ],
 "metadata": {
  "kernelspec": {
   "display_name": "Python 3 (ipykernel)",
   "language": "python",
   "name": "python3"
  },
  "language_info": {
   "codemirror_mode": {
    "name": "ipython",
    "version": 3
   },
   "file_extension": ".py",
   "mimetype": "text/x-python",
   "name": "python",
   "nbconvert_exporter": "python",
   "pygments_lexer": "ipython3",
   "version": "3.10.9"
  }
 },
 "nbformat": 4,
 "nbformat_minor": 4
}
